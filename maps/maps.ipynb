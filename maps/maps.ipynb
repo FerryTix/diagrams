{
 "cells": [
  {
   "cell_type": "code",
   "execution_count": 1,
   "metadata": {},
   "outputs": [
    {
     "name": "stdout",
     "output_type": "stream",
     "text": [
      "\u001b[33mDEPRECATION: Python 3.5 reached the end of its life on September 13th, 2020. Please upgrade your Python as Python 3.5 is no longer maintained. pip 21.0 will drop support for Python 3.5 in January 2021. pip 21.0 will remove support for this functionality.\u001b[0m\n",
      "Defaulting to user installation because normal site-packages is not writeable\n",
      "Requirement already satisfied: Pillow in /home/elsholz/.local/lib/python3.5/site-packages (7.2.0)\n",
      "Requirement already satisfied: selenium in /home/elsholz/.local/lib/python3.5/site-packages (3.141.0)\n",
      "Requirement already satisfied: urllib3 in /home/elsholz/.local/lib/python3.5/site-packages (from selenium) (1.26.2)\n",
      "\u001b[33mWARNING: You are using pip version 20.3.3; however, version 20.3.4 is available.\n",
      "You should consider upgrading via the '/usr/bin/python3 -m pip install --upgrade pip' command.\u001b[0m\n",
      "Note: you may need to restart the kernel to use updated packages.\n"
     ]
    }
   ],
   "source": [
    "pip install Pillow selenium "
   ]
  },
  {
   "cell_type": "code",
   "execution_count": 2,
   "metadata": {},
   "outputs": [],
   "source": [
    "import folium\n",
    "import io\n",
    "from PIL import Image"
   ]
  },
  {
   "cell_type": "code",
   "execution_count": 3,
   "metadata": {},
   "outputs": [],
   "source": [
    "layer_conf = {'zoom_start': 15, 'control_scale': True, 'width': '75%', 'height': '100%'}\n",
    "base_map = folium.Map(location=[51.666592, 6.481677], **layer_conf)\n",
    "y = 0.0025\n",
    "x = 0.00195\n",
    "folium.Marker(\n",
    "    [51.667724 +y, 6.483621  -x], tooltip=\"<i>Fähre Keer Tröch II</i>\", \n",
    "    icon=folium.DivIcon(html='<div style=\"font-family: Oxygen-Sans;width:100px\"><h4><center>Anleger Bislich</center></h4></div>')\n",
    ").add_to(base_map)\n",
    "folium.Marker(\n",
    "    [51.667724, 6.483621], tooltip=\"<i>Anleger Bislich</i>\",\n",
    "    ).add_to(base_map)\n",
    "\n",
    "folium.Marker(\n",
    "    [51.665388+y, 6.479604-x], tooltip=\"<i>Fähre Keer Tröch II</i>\", \n",
    "    icon=folium.DivIcon(html='<div style=\"font-family: Oxygen-Sans;width:100px\"><h4><center>Anleger Xanten</center></h4></div>')\n",
    ").add_to(base_map)\n",
    "folium.Marker(\n",
    "    [51.665388, 6.479604], tooltip=\"<i>Anleger Xanten</i>\",\n",
    ").add_to(base_map)\n",
    "\n",
    "img_data = base_map._to_png(5)\n",
    "img = Image.open(io.BytesIO(img_data))\n",
    "img.save('map_close.png')\n"
   ]
  },
  {
   "cell_type": "code",
   "execution_count": 4,
   "metadata": {},
   "outputs": [],
   "source": [
    "\n",
    "\n",
    "layer_conf.update({'zoom_start': 10})\n",
    "base_map = folium.Map(location=[51.6, 6.69], **layer_conf)\n",
    "\n",
    "\n",
    "folium.Marker(\n",
    "    [51.75, 6.42], tooltip=\"<i>Fähre Keer Tröch II</i>\", \n",
    "    icon=folium.DivIcon(html='<div style=\"font-family: Oxygen-Sans;width:100px\"><h4><center>Standort Fähre</center></h4></div>')\n",
    ").add_to(base_map)\n",
    "\n",
    "folium.Marker(\n",
    "    [51.666592, 6.481677], tooltip=\"<i>Fähre Keer Tröch II</i>\", \n",
    "   ).add_to(base_map)\n",
    "\n",
    "img_data = base_map._to_png(5)\n",
    "img = Image.open(io.BytesIO(img_data))\n",
    "img.save('map_far.png')"
   ]
  }
 ],
 "metadata": {
  "kernelspec": {
   "display_name": "Python 3",
   "language": "python",
   "name": "python3"
  },
  "language_info": {
   "codemirror_mode": {
    "name": "ipython",
    "version": 3
   },
   "file_extension": ".py",
   "mimetype": "text/x-python",
   "name": "python",
   "nbconvert_exporter": "python",
   "pygments_lexer": "ipython3",
   "version": "3.5.3"
  }
 },
 "nbformat": 4,
 "nbformat_minor": 4
}
